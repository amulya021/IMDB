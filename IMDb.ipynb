{
  "nbformat": 4,
  "nbformat_minor": 0,
  "metadata": {
    "colab": {
      "name": "IMDb.ipynb",
      "provenance": [],
      "collapsed_sections": []
    },
    "kernelspec": {
      "name": "python3",
      "display_name": "Python 3"
    },
    "language_info": {
      "name": "python"
    }
  },
  "cells": [
    {
      "cell_type": "markdown",
      "source": [
        "Importing the required libraries"
      ],
      "metadata": {
        "id": "Y1jorwb3HW_y"
      }
    },
    {
      "cell_type": "code",
      "execution_count": null,
      "metadata": {
        "id": "oFJmctfCus1n"
      },
      "outputs": [],
      "source": [
        "import pandas as pd\n",
        "import numpy as np\n",
        "import matplotlib.pyplot as plt\n",
        "import seaborn as sns"
      ]
    },
    {
      "cell_type": "code",
      "source": [
        "import missingno as ms"
      ],
      "metadata": {
        "id": "ViA-80Nkvu-9"
      },
      "execution_count": null,
      "outputs": []
    },
    {
      "cell_type": "code",
      "source": [
        "%matplotlib inline"
      ],
      "metadata": {
        "id": "LoSGzv7pv4J6"
      },
      "execution_count": null,
      "outputs": []
    },
    {
      "cell_type": "markdown",
      "source": [
        "Reading the csv file"
      ],
      "metadata": {
        "id": "Ss9MOqwfHUY6"
      }
    },
    {
      "cell_type": "code",
      "source": [
        "import pandas as pd\n",
        "data=pd.read_csv('/content/movie.csv')\n",
        "data.head()"
      ],
      "metadata": {
        "id": "mafNpypO80qA",
        "colab": {
          "base_uri": "https://localhost:8080/",
          "height": 352
        },
        "outputId": "4015993c-3c53-4bd6-f974-88773673fff7"
      },
      "execution_count": null,
      "outputs": [
        {
          "output_type": "execute_result",
          "data": {
            "text/plain": [
              "   color      director_name  num_critic_for_reviews  duration  \\\n",
              "0  Color      James Cameron                   723.0     178.0   \n",
              "1  Color     Gore Verbinski                   302.0     169.0   \n",
              "2  Color         Sam Mendes                   602.0     148.0   \n",
              "3  Color  Christopher Nolan                   813.0     164.0   \n",
              "4    NaN        Doug Walker                     NaN       NaN   \n",
              "\n",
              "   director_facebook_likes  actor_3_facebook_likes      actor_2_name  \\\n",
              "0                      0.0                   855.0  Joel David Moore   \n",
              "1                    563.0                  1000.0     Orlando Bloom   \n",
              "2                      0.0                   161.0      Rory Kinnear   \n",
              "3                  22000.0                 23000.0    Christian Bale   \n",
              "4                    131.0                     NaN        Rob Walker   \n",
              "\n",
              "   actor_1_facebook_likes        gross                           genres  ...  \\\n",
              "0                  1000.0  760505847.0  Action|Adventure|Fantasy|Sci-Fi  ...   \n",
              "1                 40000.0  309404152.0         Action|Adventure|Fantasy  ...   \n",
              "2                 11000.0  200074175.0        Action|Adventure|Thriller  ...   \n",
              "3                 27000.0  448130642.0                  Action|Thriller  ...   \n",
              "4                   131.0          NaN                      Documentary  ...   \n",
              "\n",
              "  num_user_for_reviews language  country  content_rating       budget  \\\n",
              "0               3054.0  English      USA           PG-13  237000000.0   \n",
              "1               1238.0  English      USA           PG-13  300000000.0   \n",
              "2                994.0  English       UK           PG-13  245000000.0   \n",
              "3               2701.0  English      USA           PG-13  250000000.0   \n",
              "4                  NaN      NaN      NaN             NaN          NaN   \n",
              "\n",
              "   title_year actor_2_facebook_likes imdb_score  aspect_ratio  \\\n",
              "0      2009.0                  936.0        7.9          1.78   \n",
              "1      2007.0                 5000.0        7.1          2.35   \n",
              "2      2015.0                  393.0        6.8          2.35   \n",
              "3      2012.0                23000.0        8.5          2.35   \n",
              "4         NaN                   12.0        7.1           NaN   \n",
              "\n",
              "  movie_facebook_likes  \n",
              "0                33000  \n",
              "1                    0  \n",
              "2                85000  \n",
              "3               164000  \n",
              "4                    0  \n",
              "\n",
              "[5 rows x 28 columns]"
            ],
            "text/html": [
              "\n",
              "  <div id=\"df-9b941e3a-5e74-4a45-87d0-3bb02dc56cc0\">\n",
              "    <div class=\"colab-df-container\">\n",
              "      <div>\n",
              "<style scoped>\n",
              "    .dataframe tbody tr th:only-of-type {\n",
              "        vertical-align: middle;\n",
              "    }\n",
              "\n",
              "    .dataframe tbody tr th {\n",
              "        vertical-align: top;\n",
              "    }\n",
              "\n",
              "    .dataframe thead th {\n",
              "        text-align: right;\n",
              "    }\n",
              "</style>\n",
              "<table border=\"1\" class=\"dataframe\">\n",
              "  <thead>\n",
              "    <tr style=\"text-align: right;\">\n",
              "      <th></th>\n",
              "      <th>color</th>\n",
              "      <th>director_name</th>\n",
              "      <th>num_critic_for_reviews</th>\n",
              "      <th>duration</th>\n",
              "      <th>director_facebook_likes</th>\n",
              "      <th>actor_3_facebook_likes</th>\n",
              "      <th>actor_2_name</th>\n",
              "      <th>actor_1_facebook_likes</th>\n",
              "      <th>gross</th>\n",
              "      <th>genres</th>\n",
              "      <th>...</th>\n",
              "      <th>num_user_for_reviews</th>\n",
              "      <th>language</th>\n",
              "      <th>country</th>\n",
              "      <th>content_rating</th>\n",
              "      <th>budget</th>\n",
              "      <th>title_year</th>\n",
              "      <th>actor_2_facebook_likes</th>\n",
              "      <th>imdb_score</th>\n",
              "      <th>aspect_ratio</th>\n",
              "      <th>movie_facebook_likes</th>\n",
              "    </tr>\n",
              "  </thead>\n",
              "  <tbody>\n",
              "    <tr>\n",
              "      <th>0</th>\n",
              "      <td>Color</td>\n",
              "      <td>James Cameron</td>\n",
              "      <td>723.0</td>\n",
              "      <td>178.0</td>\n",
              "      <td>0.0</td>\n",
              "      <td>855.0</td>\n",
              "      <td>Joel David Moore</td>\n",
              "      <td>1000.0</td>\n",
              "      <td>760505847.0</td>\n",
              "      <td>Action|Adventure|Fantasy|Sci-Fi</td>\n",
              "      <td>...</td>\n",
              "      <td>3054.0</td>\n",
              "      <td>English</td>\n",
              "      <td>USA</td>\n",
              "      <td>PG-13</td>\n",
              "      <td>237000000.0</td>\n",
              "      <td>2009.0</td>\n",
              "      <td>936.0</td>\n",
              "      <td>7.9</td>\n",
              "      <td>1.78</td>\n",
              "      <td>33000</td>\n",
              "    </tr>\n",
              "    <tr>\n",
              "      <th>1</th>\n",
              "      <td>Color</td>\n",
              "      <td>Gore Verbinski</td>\n",
              "      <td>302.0</td>\n",
              "      <td>169.0</td>\n",
              "      <td>563.0</td>\n",
              "      <td>1000.0</td>\n",
              "      <td>Orlando Bloom</td>\n",
              "      <td>40000.0</td>\n",
              "      <td>309404152.0</td>\n",
              "      <td>Action|Adventure|Fantasy</td>\n",
              "      <td>...</td>\n",
              "      <td>1238.0</td>\n",
              "      <td>English</td>\n",
              "      <td>USA</td>\n",
              "      <td>PG-13</td>\n",
              "      <td>300000000.0</td>\n",
              "      <td>2007.0</td>\n",
              "      <td>5000.0</td>\n",
              "      <td>7.1</td>\n",
              "      <td>2.35</td>\n",
              "      <td>0</td>\n",
              "    </tr>\n",
              "    <tr>\n",
              "      <th>2</th>\n",
              "      <td>Color</td>\n",
              "      <td>Sam Mendes</td>\n",
              "      <td>602.0</td>\n",
              "      <td>148.0</td>\n",
              "      <td>0.0</td>\n",
              "      <td>161.0</td>\n",
              "      <td>Rory Kinnear</td>\n",
              "      <td>11000.0</td>\n",
              "      <td>200074175.0</td>\n",
              "      <td>Action|Adventure|Thriller</td>\n",
              "      <td>...</td>\n",
              "      <td>994.0</td>\n",
              "      <td>English</td>\n",
              "      <td>UK</td>\n",
              "      <td>PG-13</td>\n",
              "      <td>245000000.0</td>\n",
              "      <td>2015.0</td>\n",
              "      <td>393.0</td>\n",
              "      <td>6.8</td>\n",
              "      <td>2.35</td>\n",
              "      <td>85000</td>\n",
              "    </tr>\n",
              "    <tr>\n",
              "      <th>3</th>\n",
              "      <td>Color</td>\n",
              "      <td>Christopher Nolan</td>\n",
              "      <td>813.0</td>\n",
              "      <td>164.0</td>\n",
              "      <td>22000.0</td>\n",
              "      <td>23000.0</td>\n",
              "      <td>Christian Bale</td>\n",
              "      <td>27000.0</td>\n",
              "      <td>448130642.0</td>\n",
              "      <td>Action|Thriller</td>\n",
              "      <td>...</td>\n",
              "      <td>2701.0</td>\n",
              "      <td>English</td>\n",
              "      <td>USA</td>\n",
              "      <td>PG-13</td>\n",
              "      <td>250000000.0</td>\n",
              "      <td>2012.0</td>\n",
              "      <td>23000.0</td>\n",
              "      <td>8.5</td>\n",
              "      <td>2.35</td>\n",
              "      <td>164000</td>\n",
              "    </tr>\n",
              "    <tr>\n",
              "      <th>4</th>\n",
              "      <td>NaN</td>\n",
              "      <td>Doug Walker</td>\n",
              "      <td>NaN</td>\n",
              "      <td>NaN</td>\n",
              "      <td>131.0</td>\n",
              "      <td>NaN</td>\n",
              "      <td>Rob Walker</td>\n",
              "      <td>131.0</td>\n",
              "      <td>NaN</td>\n",
              "      <td>Documentary</td>\n",
              "      <td>...</td>\n",
              "      <td>NaN</td>\n",
              "      <td>NaN</td>\n",
              "      <td>NaN</td>\n",
              "      <td>NaN</td>\n",
              "      <td>NaN</td>\n",
              "      <td>NaN</td>\n",
              "      <td>12.0</td>\n",
              "      <td>7.1</td>\n",
              "      <td>NaN</td>\n",
              "      <td>0</td>\n",
              "    </tr>\n",
              "  </tbody>\n",
              "</table>\n",
              "<p>5 rows × 28 columns</p>\n",
              "</div>\n",
              "      <button class=\"colab-df-convert\" onclick=\"convertToInteractive('df-9b941e3a-5e74-4a45-87d0-3bb02dc56cc0')\"\n",
              "              title=\"Convert this dataframe to an interactive table.\"\n",
              "              style=\"display:none;\">\n",
              "        \n",
              "  <svg xmlns=\"http://www.w3.org/2000/svg\" height=\"24px\"viewBox=\"0 0 24 24\"\n",
              "       width=\"24px\">\n",
              "    <path d=\"M0 0h24v24H0V0z\" fill=\"none\"/>\n",
              "    <path d=\"M18.56 5.44l.94 2.06.94-2.06 2.06-.94-2.06-.94-.94-2.06-.94 2.06-2.06.94zm-11 1L8.5 8.5l.94-2.06 2.06-.94-2.06-.94L8.5 2.5l-.94 2.06-2.06.94zm10 10l.94 2.06.94-2.06 2.06-.94-2.06-.94-.94-2.06-.94 2.06-2.06.94z\"/><path d=\"M17.41 7.96l-1.37-1.37c-.4-.4-.92-.59-1.43-.59-.52 0-1.04.2-1.43.59L10.3 9.45l-7.72 7.72c-.78.78-.78 2.05 0 2.83L4 21.41c.39.39.9.59 1.41.59.51 0 1.02-.2 1.41-.59l7.78-7.78 2.81-2.81c.8-.78.8-2.07 0-2.86zM5.41 20L4 18.59l7.72-7.72 1.47 1.35L5.41 20z\"/>\n",
              "  </svg>\n",
              "      </button>\n",
              "      \n",
              "  <style>\n",
              "    .colab-df-container {\n",
              "      display:flex;\n",
              "      flex-wrap:wrap;\n",
              "      gap: 12px;\n",
              "    }\n",
              "\n",
              "    .colab-df-convert {\n",
              "      background-color: #E8F0FE;\n",
              "      border: none;\n",
              "      border-radius: 50%;\n",
              "      cursor: pointer;\n",
              "      display: none;\n",
              "      fill: #1967D2;\n",
              "      height: 32px;\n",
              "      padding: 0 0 0 0;\n",
              "      width: 32px;\n",
              "    }\n",
              "\n",
              "    .colab-df-convert:hover {\n",
              "      background-color: #E2EBFA;\n",
              "      box-shadow: 0px 1px 2px rgba(60, 64, 67, 0.3), 0px 1px 3px 1px rgba(60, 64, 67, 0.15);\n",
              "      fill: #174EA6;\n",
              "    }\n",
              "\n",
              "    [theme=dark] .colab-df-convert {\n",
              "      background-color: #3B4455;\n",
              "      fill: #D2E3FC;\n",
              "    }\n",
              "\n",
              "    [theme=dark] .colab-df-convert:hover {\n",
              "      background-color: #434B5C;\n",
              "      box-shadow: 0px 1px 3px 1px rgba(0, 0, 0, 0.15);\n",
              "      filter: drop-shadow(0px 1px 2px rgba(0, 0, 0, 0.3));\n",
              "      fill: #FFFFFF;\n",
              "    }\n",
              "  </style>\n",
              "\n",
              "      <script>\n",
              "        const buttonEl =\n",
              "          document.querySelector('#df-9b941e3a-5e74-4a45-87d0-3bb02dc56cc0 button.colab-df-convert');\n",
              "        buttonEl.style.display =\n",
              "          google.colab.kernel.accessAllowed ? 'block' : 'none';\n",
              "\n",
              "        async function convertToInteractive(key) {\n",
              "          const element = document.querySelector('#df-9b941e3a-5e74-4a45-87d0-3bb02dc56cc0');\n",
              "          const dataTable =\n",
              "            await google.colab.kernel.invokeFunction('convertToInteractive',\n",
              "                                                     [key], {});\n",
              "          if (!dataTable) return;\n",
              "\n",
              "          const docLinkHtml = 'Like what you see? Visit the ' +\n",
              "            '<a target=\"_blank\" href=https://colab.research.google.com/notebooks/data_table.ipynb>data table notebook</a>'\n",
              "            + ' to learn more about interactive tables.';\n",
              "          element.innerHTML = '';\n",
              "          dataTable['output_type'] = 'display_data';\n",
              "          await google.colab.output.renderOutput(dataTable, element);\n",
              "          const docLink = document.createElement('div');\n",
              "          docLink.innerHTML = docLinkHtml;\n",
              "          element.appendChild(docLink);\n",
              "        }\n",
              "      </script>\n",
              "    </div>\n",
              "  </div>\n",
              "  "
            ]
          },
          "metadata": {},
          "execution_count": 5
        }
      ]
    },
    {
      "cell_type": "code",
      "source": [
        "type(data)"
      ],
      "metadata": {
        "colab": {
          "base_uri": "https://localhost:8080/"
        },
        "id": "4m-8NhD8-Ft2",
        "outputId": "cfa94b94-840e-4b50-9b58-fa5495bc4963"
      },
      "execution_count": null,
      "outputs": [
        {
          "output_type": "execute_result",
          "data": {
            "text/plain": [
              "pandas.core.frame.DataFrame"
            ]
          },
          "metadata": {},
          "execution_count": 7
        }
      ]
    },
    {
      "cell_type": "code",
      "source": [
        "data.head(100)"
      ],
      "metadata": {
        "colab": {
          "base_uri": "https://localhost:8080/",
          "height": 592
        },
        "id": "wyBteSze-u32",
        "outputId": "c08fe503-32b3-4dbe-87ed-8dbd56df2730"
      },
      "execution_count": null,
      "outputs": [
        {
          "output_type": "execute_result",
          "data": {
            "text/plain": [
              "    color      director_name  num_critic_for_reviews  duration  \\\n",
              "0   Color      James Cameron                   723.0     178.0   \n",
              "1   Color     Gore Verbinski                   302.0     169.0   \n",
              "2   Color         Sam Mendes                   602.0     148.0   \n",
              "3   Color  Christopher Nolan                   813.0     164.0   \n",
              "4     NaN        Doug Walker                     NaN       NaN   \n",
              "..    ...                ...                     ...       ...   \n",
              "95  Color         James Gunn                   653.0     121.0   \n",
              "96  Color  Christopher Nolan                   712.0     169.0   \n",
              "97  Color  Christopher Nolan                   642.0     148.0   \n",
              "98  Color       Hideaki Anno                     1.0     120.0   \n",
              "99  Color      Peter Jackson                   645.0     182.0   \n",
              "\n",
              "    director_facebook_likes  actor_3_facebook_likes       actor_2_name  \\\n",
              "0                       0.0                   855.0   Joel David Moore   \n",
              "1                     563.0                  1000.0      Orlando Bloom   \n",
              "2                       0.0                   161.0       Rory Kinnear   \n",
              "3                   22000.0                 23000.0     Christian Bale   \n",
              "4                     131.0                     NaN         Rob Walker   \n",
              "..                      ...                     ...                ...   \n",
              "95                    571.0                  3000.0         Vin Diesel   \n",
              "96                  22000.0                  6000.0      Anne Hathaway   \n",
              "97                  22000.0                 23000.0          Tom Hardy   \n",
              "98                     28.0                    12.0  Shin'ya Tsukamoto   \n",
              "99                      0.0                   773.0         Adam Brown   \n",
              "\n",
              "    actor_1_facebook_likes        gross                                genres  \\\n",
              "0                   1000.0  760505847.0       Action|Adventure|Fantasy|Sci-Fi   \n",
              "1                  40000.0  309404152.0              Action|Adventure|Fantasy   \n",
              "2                  11000.0  200074175.0             Action|Adventure|Thriller   \n",
              "3                  27000.0  448130642.0                       Action|Thriller   \n",
              "4                    131.0          NaN                           Documentary   \n",
              "..                     ...          ...                                   ...   \n",
              "95                 14000.0  333130696.0               Action|Adventure|Sci-Fi   \n",
              "96                 11000.0  187991439.0                Adventure|Drama|Sci-Fi   \n",
              "97                 29000.0  292568851.0      Action|Adventure|Sci-Fi|Thriller   \n",
              "98                   544.0          NaN  Action|Adventure|Drama|Horror|Sci-Fi   \n",
              "99                  5000.0  303001229.0                     Adventure|Fantasy   \n",
              "\n",
              "    ... num_user_for_reviews  language  country  content_rating       budget  \\\n",
              "0   ...               3054.0   English      USA           PG-13  237000000.0   \n",
              "1   ...               1238.0   English      USA           PG-13  300000000.0   \n",
              "2   ...                994.0   English       UK           PG-13  245000000.0   \n",
              "3   ...               2701.0   English      USA           PG-13  250000000.0   \n",
              "4   ...                  NaN       NaN      NaN             NaN          NaN   \n",
              "..  ...                  ...       ...      ...             ...          ...   \n",
              "95  ...               1097.0   English      USA           PG-13  170000000.0   \n",
              "96  ...               2725.0   English      USA           PG-13  165000000.0   \n",
              "97  ...               2803.0   English      USA           PG-13  160000000.0   \n",
              "98  ...                 13.0  Japanese    Japan             NaN          NaN   \n",
              "99  ...               1367.0   English      USA           PG-13  180000000.0   \n",
              "\n",
              "    title_year actor_2_facebook_likes imdb_score  aspect_ratio  \\\n",
              "0       2009.0                  936.0        7.9          1.78   \n",
              "1       2007.0                 5000.0        7.1          2.35   \n",
              "2       2015.0                  393.0        6.8          2.35   \n",
              "3       2012.0                23000.0        8.5          2.35   \n",
              "4          NaN                   12.0        7.1           NaN   \n",
              "..         ...                    ...        ...           ...   \n",
              "95      2014.0                14000.0        8.1          2.35   \n",
              "96      2014.0                11000.0        8.6          2.35   \n",
              "97      2010.0                27000.0        8.8          2.35   \n",
              "98      2016.0                  106.0        8.2          2.35   \n",
              "99      2012.0                  972.0        7.9          2.35   \n",
              "\n",
              "   movie_facebook_likes  \n",
              "0                 33000  \n",
              "1                     0  \n",
              "2                 85000  \n",
              "3                164000  \n",
              "4                     0  \n",
              "..                  ...  \n",
              "95                96000  \n",
              "96               349000  \n",
              "97               175000  \n",
              "98                    0  \n",
              "99               166000  \n",
              "\n",
              "[100 rows x 28 columns]"
            ],
            "text/html": [
              "\n",
              "  <div id=\"df-60248012-32a9-4827-a18a-c002f9951c2c\">\n",
              "    <div class=\"colab-df-container\">\n",
              "      <div>\n",
              "<style scoped>\n",
              "    .dataframe tbody tr th:only-of-type {\n",
              "        vertical-align: middle;\n",
              "    }\n",
              "\n",
              "    .dataframe tbody tr th {\n",
              "        vertical-align: top;\n",
              "    }\n",
              "\n",
              "    .dataframe thead th {\n",
              "        text-align: right;\n",
              "    }\n",
              "</style>\n",
              "<table border=\"1\" class=\"dataframe\">\n",
              "  <thead>\n",
              "    <tr style=\"text-align: right;\">\n",
              "      <th></th>\n",
              "      <th>color</th>\n",
              "      <th>director_name</th>\n",
              "      <th>num_critic_for_reviews</th>\n",
              "      <th>duration</th>\n",
              "      <th>director_facebook_likes</th>\n",
              "      <th>actor_3_facebook_likes</th>\n",
              "      <th>actor_2_name</th>\n",
              "      <th>actor_1_facebook_likes</th>\n",
              "      <th>gross</th>\n",
              "      <th>genres</th>\n",
              "      <th>...</th>\n",
              "      <th>num_user_for_reviews</th>\n",
              "      <th>language</th>\n",
              "      <th>country</th>\n",
              "      <th>content_rating</th>\n",
              "      <th>budget</th>\n",
              "      <th>title_year</th>\n",
              "      <th>actor_2_facebook_likes</th>\n",
              "      <th>imdb_score</th>\n",
              "      <th>aspect_ratio</th>\n",
              "      <th>movie_facebook_likes</th>\n",
              "    </tr>\n",
              "  </thead>\n",
              "  <tbody>\n",
              "    <tr>\n",
              "      <th>0</th>\n",
              "      <td>Color</td>\n",
              "      <td>James Cameron</td>\n",
              "      <td>723.0</td>\n",
              "      <td>178.0</td>\n",
              "      <td>0.0</td>\n",
              "      <td>855.0</td>\n",
              "      <td>Joel David Moore</td>\n",
              "      <td>1000.0</td>\n",
              "      <td>760505847.0</td>\n",
              "      <td>Action|Adventure|Fantasy|Sci-Fi</td>\n",
              "      <td>...</td>\n",
              "      <td>3054.0</td>\n",
              "      <td>English</td>\n",
              "      <td>USA</td>\n",
              "      <td>PG-13</td>\n",
              "      <td>237000000.0</td>\n",
              "      <td>2009.0</td>\n",
              "      <td>936.0</td>\n",
              "      <td>7.9</td>\n",
              "      <td>1.78</td>\n",
              "      <td>33000</td>\n",
              "    </tr>\n",
              "    <tr>\n",
              "      <th>1</th>\n",
              "      <td>Color</td>\n",
              "      <td>Gore Verbinski</td>\n",
              "      <td>302.0</td>\n",
              "      <td>169.0</td>\n",
              "      <td>563.0</td>\n",
              "      <td>1000.0</td>\n",
              "      <td>Orlando Bloom</td>\n",
              "      <td>40000.0</td>\n",
              "      <td>309404152.0</td>\n",
              "      <td>Action|Adventure|Fantasy</td>\n",
              "      <td>...</td>\n",
              "      <td>1238.0</td>\n",
              "      <td>English</td>\n",
              "      <td>USA</td>\n",
              "      <td>PG-13</td>\n",
              "      <td>300000000.0</td>\n",
              "      <td>2007.0</td>\n",
              "      <td>5000.0</td>\n",
              "      <td>7.1</td>\n",
              "      <td>2.35</td>\n",
              "      <td>0</td>\n",
              "    </tr>\n",
              "    <tr>\n",
              "      <th>2</th>\n",
              "      <td>Color</td>\n",
              "      <td>Sam Mendes</td>\n",
              "      <td>602.0</td>\n",
              "      <td>148.0</td>\n",
              "      <td>0.0</td>\n",
              "      <td>161.0</td>\n",
              "      <td>Rory Kinnear</td>\n",
              "      <td>11000.0</td>\n",
              "      <td>200074175.0</td>\n",
              "      <td>Action|Adventure|Thriller</td>\n",
              "      <td>...</td>\n",
              "      <td>994.0</td>\n",
              "      <td>English</td>\n",
              "      <td>UK</td>\n",
              "      <td>PG-13</td>\n",
              "      <td>245000000.0</td>\n",
              "      <td>2015.0</td>\n",
              "      <td>393.0</td>\n",
              "      <td>6.8</td>\n",
              "      <td>2.35</td>\n",
              "      <td>85000</td>\n",
              "    </tr>\n",
              "    <tr>\n",
              "      <th>3</th>\n",
              "      <td>Color</td>\n",
              "      <td>Christopher Nolan</td>\n",
              "      <td>813.0</td>\n",
              "      <td>164.0</td>\n",
              "      <td>22000.0</td>\n",
              "      <td>23000.0</td>\n",
              "      <td>Christian Bale</td>\n",
              "      <td>27000.0</td>\n",
              "      <td>448130642.0</td>\n",
              "      <td>Action|Thriller</td>\n",
              "      <td>...</td>\n",
              "      <td>2701.0</td>\n",
              "      <td>English</td>\n",
              "      <td>USA</td>\n",
              "      <td>PG-13</td>\n",
              "      <td>250000000.0</td>\n",
              "      <td>2012.0</td>\n",
              "      <td>23000.0</td>\n",
              "      <td>8.5</td>\n",
              "      <td>2.35</td>\n",
              "      <td>164000</td>\n",
              "    </tr>\n",
              "    <tr>\n",
              "      <th>4</th>\n",
              "      <td>NaN</td>\n",
              "      <td>Doug Walker</td>\n",
              "      <td>NaN</td>\n",
              "      <td>NaN</td>\n",
              "      <td>131.0</td>\n",
              "      <td>NaN</td>\n",
              "      <td>Rob Walker</td>\n",
              "      <td>131.0</td>\n",
              "      <td>NaN</td>\n",
              "      <td>Documentary</td>\n",
              "      <td>...</td>\n",
              "      <td>NaN</td>\n",
              "      <td>NaN</td>\n",
              "      <td>NaN</td>\n",
              "      <td>NaN</td>\n",
              "      <td>NaN</td>\n",
              "      <td>NaN</td>\n",
              "      <td>12.0</td>\n",
              "      <td>7.1</td>\n",
              "      <td>NaN</td>\n",
              "      <td>0</td>\n",
              "    </tr>\n",
              "    <tr>\n",
              "      <th>...</th>\n",
              "      <td>...</td>\n",
              "      <td>...</td>\n",
              "      <td>...</td>\n",
              "      <td>...</td>\n",
              "      <td>...</td>\n",
              "      <td>...</td>\n",
              "      <td>...</td>\n",
              "      <td>...</td>\n",
              "      <td>...</td>\n",
              "      <td>...</td>\n",
              "      <td>...</td>\n",
              "      <td>...</td>\n",
              "      <td>...</td>\n",
              "      <td>...</td>\n",
              "      <td>...</td>\n",
              "      <td>...</td>\n",
              "      <td>...</td>\n",
              "      <td>...</td>\n",
              "      <td>...</td>\n",
              "      <td>...</td>\n",
              "      <td>...</td>\n",
              "    </tr>\n",
              "    <tr>\n",
              "      <th>95</th>\n",
              "      <td>Color</td>\n",
              "      <td>James Gunn</td>\n",
              "      <td>653.0</td>\n",
              "      <td>121.0</td>\n",
              "      <td>571.0</td>\n",
              "      <td>3000.0</td>\n",
              "      <td>Vin Diesel</td>\n",
              "      <td>14000.0</td>\n",
              "      <td>333130696.0</td>\n",
              "      <td>Action|Adventure|Sci-Fi</td>\n",
              "      <td>...</td>\n",
              "      <td>1097.0</td>\n",
              "      <td>English</td>\n",
              "      <td>USA</td>\n",
              "      <td>PG-13</td>\n",
              "      <td>170000000.0</td>\n",
              "      <td>2014.0</td>\n",
              "      <td>14000.0</td>\n",
              "      <td>8.1</td>\n",
              "      <td>2.35</td>\n",
              "      <td>96000</td>\n",
              "    </tr>\n",
              "    <tr>\n",
              "      <th>96</th>\n",
              "      <td>Color</td>\n",
              "      <td>Christopher Nolan</td>\n",
              "      <td>712.0</td>\n",
              "      <td>169.0</td>\n",
              "      <td>22000.0</td>\n",
              "      <td>6000.0</td>\n",
              "      <td>Anne Hathaway</td>\n",
              "      <td>11000.0</td>\n",
              "      <td>187991439.0</td>\n",
              "      <td>Adventure|Drama|Sci-Fi</td>\n",
              "      <td>...</td>\n",
              "      <td>2725.0</td>\n",
              "      <td>English</td>\n",
              "      <td>USA</td>\n",
              "      <td>PG-13</td>\n",
              "      <td>165000000.0</td>\n",
              "      <td>2014.0</td>\n",
              "      <td>11000.0</td>\n",
              "      <td>8.6</td>\n",
              "      <td>2.35</td>\n",
              "      <td>349000</td>\n",
              "    </tr>\n",
              "    <tr>\n",
              "      <th>97</th>\n",
              "      <td>Color</td>\n",
              "      <td>Christopher Nolan</td>\n",
              "      <td>642.0</td>\n",
              "      <td>148.0</td>\n",
              "      <td>22000.0</td>\n",
              "      <td>23000.0</td>\n",
              "      <td>Tom Hardy</td>\n",
              "      <td>29000.0</td>\n",
              "      <td>292568851.0</td>\n",
              "      <td>Action|Adventure|Sci-Fi|Thriller</td>\n",
              "      <td>...</td>\n",
              "      <td>2803.0</td>\n",
              "      <td>English</td>\n",
              "      <td>USA</td>\n",
              "      <td>PG-13</td>\n",
              "      <td>160000000.0</td>\n",
              "      <td>2010.0</td>\n",
              "      <td>27000.0</td>\n",
              "      <td>8.8</td>\n",
              "      <td>2.35</td>\n",
              "      <td>175000</td>\n",
              "    </tr>\n",
              "    <tr>\n",
              "      <th>98</th>\n",
              "      <td>Color</td>\n",
              "      <td>Hideaki Anno</td>\n",
              "      <td>1.0</td>\n",
              "      <td>120.0</td>\n",
              "      <td>28.0</td>\n",
              "      <td>12.0</td>\n",
              "      <td>Shin'ya Tsukamoto</td>\n",
              "      <td>544.0</td>\n",
              "      <td>NaN</td>\n",
              "      <td>Action|Adventure|Drama|Horror|Sci-Fi</td>\n",
              "      <td>...</td>\n",
              "      <td>13.0</td>\n",
              "      <td>Japanese</td>\n",
              "      <td>Japan</td>\n",
              "      <td>NaN</td>\n",
              "      <td>NaN</td>\n",
              "      <td>2016.0</td>\n",
              "      <td>106.0</td>\n",
              "      <td>8.2</td>\n",
              "      <td>2.35</td>\n",
              "      <td>0</td>\n",
              "    </tr>\n",
              "    <tr>\n",
              "      <th>99</th>\n",
              "      <td>Color</td>\n",
              "      <td>Peter Jackson</td>\n",
              "      <td>645.0</td>\n",
              "      <td>182.0</td>\n",
              "      <td>0.0</td>\n",
              "      <td>773.0</td>\n",
              "      <td>Adam Brown</td>\n",
              "      <td>5000.0</td>\n",
              "      <td>303001229.0</td>\n",
              "      <td>Adventure|Fantasy</td>\n",
              "      <td>...</td>\n",
              "      <td>1367.0</td>\n",
              "      <td>English</td>\n",
              "      <td>USA</td>\n",
              "      <td>PG-13</td>\n",
              "      <td>180000000.0</td>\n",
              "      <td>2012.0</td>\n",
              "      <td>972.0</td>\n",
              "      <td>7.9</td>\n",
              "      <td>2.35</td>\n",
              "      <td>166000</td>\n",
              "    </tr>\n",
              "  </tbody>\n",
              "</table>\n",
              "<p>100 rows × 28 columns</p>\n",
              "</div>\n",
              "      <button class=\"colab-df-convert\" onclick=\"convertToInteractive('df-60248012-32a9-4827-a18a-c002f9951c2c')\"\n",
              "              title=\"Convert this dataframe to an interactive table.\"\n",
              "              style=\"display:none;\">\n",
              "        \n",
              "  <svg xmlns=\"http://www.w3.org/2000/svg\" height=\"24px\"viewBox=\"0 0 24 24\"\n",
              "       width=\"24px\">\n",
              "    <path d=\"M0 0h24v24H0V0z\" fill=\"none\"/>\n",
              "    <path d=\"M18.56 5.44l.94 2.06.94-2.06 2.06-.94-2.06-.94-.94-2.06-.94 2.06-2.06.94zm-11 1L8.5 8.5l.94-2.06 2.06-.94-2.06-.94L8.5 2.5l-.94 2.06-2.06.94zm10 10l.94 2.06.94-2.06 2.06-.94-2.06-.94-.94-2.06-.94 2.06-2.06.94z\"/><path d=\"M17.41 7.96l-1.37-1.37c-.4-.4-.92-.59-1.43-.59-.52 0-1.04.2-1.43.59L10.3 9.45l-7.72 7.72c-.78.78-.78 2.05 0 2.83L4 21.41c.39.39.9.59 1.41.59.51 0 1.02-.2 1.41-.59l7.78-7.78 2.81-2.81c.8-.78.8-2.07 0-2.86zM5.41 20L4 18.59l7.72-7.72 1.47 1.35L5.41 20z\"/>\n",
              "  </svg>\n",
              "      </button>\n",
              "      \n",
              "  <style>\n",
              "    .colab-df-container {\n",
              "      display:flex;\n",
              "      flex-wrap:wrap;\n",
              "      gap: 12px;\n",
              "    }\n",
              "\n",
              "    .colab-df-convert {\n",
              "      background-color: #E8F0FE;\n",
              "      border: none;\n",
              "      border-radius: 50%;\n",
              "      cursor: pointer;\n",
              "      display: none;\n",
              "      fill: #1967D2;\n",
              "      height: 32px;\n",
              "      padding: 0 0 0 0;\n",
              "      width: 32px;\n",
              "    }\n",
              "\n",
              "    .colab-df-convert:hover {\n",
              "      background-color: #E2EBFA;\n",
              "      box-shadow: 0px 1px 2px rgba(60, 64, 67, 0.3), 0px 1px 3px 1px rgba(60, 64, 67, 0.15);\n",
              "      fill: #174EA6;\n",
              "    }\n",
              "\n",
              "    [theme=dark] .colab-df-convert {\n",
              "      background-color: #3B4455;\n",
              "      fill: #D2E3FC;\n",
              "    }\n",
              "\n",
              "    [theme=dark] .colab-df-convert:hover {\n",
              "      background-color: #434B5C;\n",
              "      box-shadow: 0px 1px 3px 1px rgba(0, 0, 0, 0.15);\n",
              "      filter: drop-shadow(0px 1px 2px rgba(0, 0, 0, 0.3));\n",
              "      fill: #FFFFFF;\n",
              "    }\n",
              "  </style>\n",
              "\n",
              "      <script>\n",
              "        const buttonEl =\n",
              "          document.querySelector('#df-60248012-32a9-4827-a18a-c002f9951c2c button.colab-df-convert');\n",
              "        buttonEl.style.display =\n",
              "          google.colab.kernel.accessAllowed ? 'block' : 'none';\n",
              "\n",
              "        async function convertToInteractive(key) {\n",
              "          const element = document.querySelector('#df-60248012-32a9-4827-a18a-c002f9951c2c');\n",
              "          const dataTable =\n",
              "            await google.colab.kernel.invokeFunction('convertToInteractive',\n",
              "                                                     [key], {});\n",
              "          if (!dataTable) return;\n",
              "\n",
              "          const docLinkHtml = 'Like what you see? Visit the ' +\n",
              "            '<a target=\"_blank\" href=https://colab.research.google.com/notebooks/data_table.ipynb>data table notebook</a>'\n",
              "            + ' to learn more about interactive tables.';\n",
              "          element.innerHTML = '';\n",
              "          dataTable['output_type'] = 'display_data';\n",
              "          await google.colab.output.renderOutput(dataTable, element);\n",
              "          const docLink = document.createElement('div');\n",
              "          docLink.innerHTML = docLinkHtml;\n",
              "          element.appendChild(docLink);\n",
              "        }\n",
              "      </script>\n",
              "    </div>\n",
              "  </div>\n",
              "  "
            ]
          },
          "metadata": {},
          "execution_count": 8
        }
      ]
    },
    {
      "cell_type": "code",
      "source": [
        "data.info()"
      ],
      "metadata": {
        "colab": {
          "base_uri": "https://localhost:8080/"
        },
        "id": "LOYxTpRk-yGM",
        "outputId": "f66efaa8-9456-4e7d-fc64-47d45d3da4bd"
      },
      "execution_count": null,
      "outputs": [
        {
          "output_type": "stream",
          "name": "stdout",
          "text": [
            "<class 'pandas.core.frame.DataFrame'>\n",
            "RangeIndex: 5043 entries, 0 to 5042\n",
            "Data columns (total 28 columns):\n",
            " #   Column                     Non-Null Count  Dtype  \n",
            "---  ------                     --------------  -----  \n",
            " 0   color                      5024 non-null   object \n",
            " 1   director_name              4939 non-null   object \n",
            " 2   num_critic_for_reviews     4993 non-null   float64\n",
            " 3   duration                   5028 non-null   float64\n",
            " 4   director_facebook_likes    4939 non-null   float64\n",
            " 5   actor_3_facebook_likes     5020 non-null   float64\n",
            " 6   actor_2_name               5030 non-null   object \n",
            " 7   actor_1_facebook_likes     5036 non-null   float64\n",
            " 8   gross                      4159 non-null   float64\n",
            " 9   genres                     5043 non-null   object \n",
            " 10  actor_1_name               5036 non-null   object \n",
            " 11  movie_title                5043 non-null   object \n",
            " 12  num_voted_users            5043 non-null   int64  \n",
            " 13  cast_total_facebook_likes  5043 non-null   int64  \n",
            " 14  actor_3_name               5020 non-null   object \n",
            " 15  facenumber_in_poster       5030 non-null   float64\n",
            " 16  plot_keywords              4890 non-null   object \n",
            " 17  movie_imdb_link            5043 non-null   object \n",
            " 18  num_user_for_reviews       5022 non-null   float64\n",
            " 19  language                   5031 non-null   object \n",
            " 20  country                    5038 non-null   object \n",
            " 21  content_rating             4740 non-null   object \n",
            " 22  budget                     4551 non-null   float64\n",
            " 23  title_year                 4935 non-null   float64\n",
            " 24  actor_2_facebook_likes     5030 non-null   float64\n",
            " 25  imdb_score                 5043 non-null   float64\n",
            " 26  aspect_ratio               4714 non-null   float64\n",
            " 27  movie_facebook_likes       5043 non-null   int64  \n",
            "dtypes: float64(13), int64(3), object(12)\n",
            "memory usage: 1.1+ MB\n"
          ]
        }
      ]
    },
    {
      "cell_type": "code",
      "source": [
        "data.describe()"
      ],
      "metadata": {
        "colab": {
          "base_uri": "https://localhost:8080/",
          "height": 364
        },
        "id": "0mhyF8qI-02M",
        "outputId": "c7339a2b-0df4-476b-b8b5-9929df9c8d9e"
      },
      "execution_count": null,
      "outputs": [
        {
          "output_type": "execute_result",
          "data": {
            "text/plain": [
              "       num_critic_for_reviews     duration  director_facebook_likes  \\\n",
              "count             4993.000000  5028.000000              4939.000000   \n",
              "mean               140.194272   107.201074               686.509212   \n",
              "std                121.601675    25.197441              2813.328607   \n",
              "min                  1.000000     7.000000                 0.000000   \n",
              "25%                 50.000000    93.000000                 7.000000   \n",
              "50%                110.000000   103.000000                49.000000   \n",
              "75%                195.000000   118.000000               194.500000   \n",
              "max                813.000000   511.000000             23000.000000   \n",
              "\n",
              "       actor_3_facebook_likes  actor_1_facebook_likes         gross  \\\n",
              "count             5020.000000             5036.000000  4.159000e+03   \n",
              "mean               645.009761             6560.047061  4.846841e+07   \n",
              "std               1665.041728            15020.759120  6.845299e+07   \n",
              "min                  0.000000                0.000000  1.620000e+02   \n",
              "25%                133.000000              614.000000  5.340988e+06   \n",
              "50%                371.500000              988.000000  2.551750e+07   \n",
              "75%                636.000000            11000.000000  6.230944e+07   \n",
              "max              23000.000000           640000.000000  7.605058e+08   \n",
              "\n",
              "       num_voted_users  cast_total_facebook_likes  facenumber_in_poster  \\\n",
              "count     5.043000e+03                5043.000000           5030.000000   \n",
              "mean      8.366816e+04                9699.063851              1.371173   \n",
              "std       1.384853e+05               18163.799124              2.013576   \n",
              "min       5.000000e+00                   0.000000              0.000000   \n",
              "25%       8.593500e+03                1411.000000              0.000000   \n",
              "50%       3.435900e+04                3090.000000              1.000000   \n",
              "75%       9.630900e+04               13756.500000              2.000000   \n",
              "max       1.689764e+06              656730.000000             43.000000   \n",
              "\n",
              "       num_user_for_reviews        budget   title_year  \\\n",
              "count           5022.000000  4.551000e+03  4935.000000   \n",
              "mean             272.770808  3.975262e+07  2002.470517   \n",
              "std              377.982886  2.061149e+08    12.474599   \n",
              "min                1.000000  2.180000e+02  1916.000000   \n",
              "25%               65.000000  6.000000e+06  1999.000000   \n",
              "50%              156.000000  2.000000e+07  2005.000000   \n",
              "75%              326.000000  4.500000e+07  2011.000000   \n",
              "max             5060.000000  1.221550e+10  2016.000000   \n",
              "\n",
              "       actor_2_facebook_likes   imdb_score  aspect_ratio  movie_facebook_likes  \n",
              "count             5030.000000  5043.000000   4714.000000           5043.000000  \n",
              "mean              1651.754473     6.442138      2.220403           7525.964505  \n",
              "std               4042.438863     1.125116      1.385113          19320.445110  \n",
              "min                  0.000000     1.600000      1.180000              0.000000  \n",
              "25%                281.000000     5.800000      1.850000              0.000000  \n",
              "50%                595.000000     6.600000      2.350000            166.000000  \n",
              "75%                918.000000     7.200000      2.350000           3000.000000  \n",
              "max             137000.000000     9.500000     16.000000         349000.000000  "
            ],
            "text/html": [
              "\n",
              "  <div id=\"df-363a7996-d757-4592-b2e6-46a3cc5ed630\">\n",
              "    <div class=\"colab-df-container\">\n",
              "      <div>\n",
              "<style scoped>\n",
              "    .dataframe tbody tr th:only-of-type {\n",
              "        vertical-align: middle;\n",
              "    }\n",
              "\n",
              "    .dataframe tbody tr th {\n",
              "        vertical-align: top;\n",
              "    }\n",
              "\n",
              "    .dataframe thead th {\n",
              "        text-align: right;\n",
              "    }\n",
              "</style>\n",
              "<table border=\"1\" class=\"dataframe\">\n",
              "  <thead>\n",
              "    <tr style=\"text-align: right;\">\n",
              "      <th></th>\n",
              "      <th>num_critic_for_reviews</th>\n",
              "      <th>duration</th>\n",
              "      <th>director_facebook_likes</th>\n",
              "      <th>actor_3_facebook_likes</th>\n",
              "      <th>actor_1_facebook_likes</th>\n",
              "      <th>gross</th>\n",
              "      <th>num_voted_users</th>\n",
              "      <th>cast_total_facebook_likes</th>\n",
              "      <th>facenumber_in_poster</th>\n",
              "      <th>num_user_for_reviews</th>\n",
              "      <th>budget</th>\n",
              "      <th>title_year</th>\n",
              "      <th>actor_2_facebook_likes</th>\n",
              "      <th>imdb_score</th>\n",
              "      <th>aspect_ratio</th>\n",
              "      <th>movie_facebook_likes</th>\n",
              "    </tr>\n",
              "  </thead>\n",
              "  <tbody>\n",
              "    <tr>\n",
              "      <th>count</th>\n",
              "      <td>4993.000000</td>\n",
              "      <td>5028.000000</td>\n",
              "      <td>4939.000000</td>\n",
              "      <td>5020.000000</td>\n",
              "      <td>5036.000000</td>\n",
              "      <td>4.159000e+03</td>\n",
              "      <td>5.043000e+03</td>\n",
              "      <td>5043.000000</td>\n",
              "      <td>5030.000000</td>\n",
              "      <td>5022.000000</td>\n",
              "      <td>4.551000e+03</td>\n",
              "      <td>4935.000000</td>\n",
              "      <td>5030.000000</td>\n",
              "      <td>5043.000000</td>\n",
              "      <td>4714.000000</td>\n",
              "      <td>5043.000000</td>\n",
              "    </tr>\n",
              "    <tr>\n",
              "      <th>mean</th>\n",
              "      <td>140.194272</td>\n",
              "      <td>107.201074</td>\n",
              "      <td>686.509212</td>\n",
              "      <td>645.009761</td>\n",
              "      <td>6560.047061</td>\n",
              "      <td>4.846841e+07</td>\n",
              "      <td>8.366816e+04</td>\n",
              "      <td>9699.063851</td>\n",
              "      <td>1.371173</td>\n",
              "      <td>272.770808</td>\n",
              "      <td>3.975262e+07</td>\n",
              "      <td>2002.470517</td>\n",
              "      <td>1651.754473</td>\n",
              "      <td>6.442138</td>\n",
              "      <td>2.220403</td>\n",
              "      <td>7525.964505</td>\n",
              "    </tr>\n",
              "    <tr>\n",
              "      <th>std</th>\n",
              "      <td>121.601675</td>\n",
              "      <td>25.197441</td>\n",
              "      <td>2813.328607</td>\n",
              "      <td>1665.041728</td>\n",
              "      <td>15020.759120</td>\n",
              "      <td>6.845299e+07</td>\n",
              "      <td>1.384853e+05</td>\n",
              "      <td>18163.799124</td>\n",
              "      <td>2.013576</td>\n",
              "      <td>377.982886</td>\n",
              "      <td>2.061149e+08</td>\n",
              "      <td>12.474599</td>\n",
              "      <td>4042.438863</td>\n",
              "      <td>1.125116</td>\n",
              "      <td>1.385113</td>\n",
              "      <td>19320.445110</td>\n",
              "    </tr>\n",
              "    <tr>\n",
              "      <th>min</th>\n",
              "      <td>1.000000</td>\n",
              "      <td>7.000000</td>\n",
              "      <td>0.000000</td>\n",
              "      <td>0.000000</td>\n",
              "      <td>0.000000</td>\n",
              "      <td>1.620000e+02</td>\n",
              "      <td>5.000000e+00</td>\n",
              "      <td>0.000000</td>\n",
              "      <td>0.000000</td>\n",
              "      <td>1.000000</td>\n",
              "      <td>2.180000e+02</td>\n",
              "      <td>1916.000000</td>\n",
              "      <td>0.000000</td>\n",
              "      <td>1.600000</td>\n",
              "      <td>1.180000</td>\n",
              "      <td>0.000000</td>\n",
              "    </tr>\n",
              "    <tr>\n",
              "      <th>25%</th>\n",
              "      <td>50.000000</td>\n",
              "      <td>93.000000</td>\n",
              "      <td>7.000000</td>\n",
              "      <td>133.000000</td>\n",
              "      <td>614.000000</td>\n",
              "      <td>5.340988e+06</td>\n",
              "      <td>8.593500e+03</td>\n",
              "      <td>1411.000000</td>\n",
              "      <td>0.000000</td>\n",
              "      <td>65.000000</td>\n",
              "      <td>6.000000e+06</td>\n",
              "      <td>1999.000000</td>\n",
              "      <td>281.000000</td>\n",
              "      <td>5.800000</td>\n",
              "      <td>1.850000</td>\n",
              "      <td>0.000000</td>\n",
              "    </tr>\n",
              "    <tr>\n",
              "      <th>50%</th>\n",
              "      <td>110.000000</td>\n",
              "      <td>103.000000</td>\n",
              "      <td>49.000000</td>\n",
              "      <td>371.500000</td>\n",
              "      <td>988.000000</td>\n",
              "      <td>2.551750e+07</td>\n",
              "      <td>3.435900e+04</td>\n",
              "      <td>3090.000000</td>\n",
              "      <td>1.000000</td>\n",
              "      <td>156.000000</td>\n",
              "      <td>2.000000e+07</td>\n",
              "      <td>2005.000000</td>\n",
              "      <td>595.000000</td>\n",
              "      <td>6.600000</td>\n",
              "      <td>2.350000</td>\n",
              "      <td>166.000000</td>\n",
              "    </tr>\n",
              "    <tr>\n",
              "      <th>75%</th>\n",
              "      <td>195.000000</td>\n",
              "      <td>118.000000</td>\n",
              "      <td>194.500000</td>\n",
              "      <td>636.000000</td>\n",
              "      <td>11000.000000</td>\n",
              "      <td>6.230944e+07</td>\n",
              "      <td>9.630900e+04</td>\n",
              "      <td>13756.500000</td>\n",
              "      <td>2.000000</td>\n",
              "      <td>326.000000</td>\n",
              "      <td>4.500000e+07</td>\n",
              "      <td>2011.000000</td>\n",
              "      <td>918.000000</td>\n",
              "      <td>7.200000</td>\n",
              "      <td>2.350000</td>\n",
              "      <td>3000.000000</td>\n",
              "    </tr>\n",
              "    <tr>\n",
              "      <th>max</th>\n",
              "      <td>813.000000</td>\n",
              "      <td>511.000000</td>\n",
              "      <td>23000.000000</td>\n",
              "      <td>23000.000000</td>\n",
              "      <td>640000.000000</td>\n",
              "      <td>7.605058e+08</td>\n",
              "      <td>1.689764e+06</td>\n",
              "      <td>656730.000000</td>\n",
              "      <td>43.000000</td>\n",
              "      <td>5060.000000</td>\n",
              "      <td>1.221550e+10</td>\n",
              "      <td>2016.000000</td>\n",
              "      <td>137000.000000</td>\n",
              "      <td>9.500000</td>\n",
              "      <td>16.000000</td>\n",
              "      <td>349000.000000</td>\n",
              "    </tr>\n",
              "  </tbody>\n",
              "</table>\n",
              "</div>\n",
              "      <button class=\"colab-df-convert\" onclick=\"convertToInteractive('df-363a7996-d757-4592-b2e6-46a3cc5ed630')\"\n",
              "              title=\"Convert this dataframe to an interactive table.\"\n",
              "              style=\"display:none;\">\n",
              "        \n",
              "  <svg xmlns=\"http://www.w3.org/2000/svg\" height=\"24px\"viewBox=\"0 0 24 24\"\n",
              "       width=\"24px\">\n",
              "    <path d=\"M0 0h24v24H0V0z\" fill=\"none\"/>\n",
              "    <path d=\"M18.56 5.44l.94 2.06.94-2.06 2.06-.94-2.06-.94-.94-2.06-.94 2.06-2.06.94zm-11 1L8.5 8.5l.94-2.06 2.06-.94-2.06-.94L8.5 2.5l-.94 2.06-2.06.94zm10 10l.94 2.06.94-2.06 2.06-.94-2.06-.94-.94-2.06-.94 2.06-2.06.94z\"/><path d=\"M17.41 7.96l-1.37-1.37c-.4-.4-.92-.59-1.43-.59-.52 0-1.04.2-1.43.59L10.3 9.45l-7.72 7.72c-.78.78-.78 2.05 0 2.83L4 21.41c.39.39.9.59 1.41.59.51 0 1.02-.2 1.41-.59l7.78-7.78 2.81-2.81c.8-.78.8-2.07 0-2.86zM5.41 20L4 18.59l7.72-7.72 1.47 1.35L5.41 20z\"/>\n",
              "  </svg>\n",
              "      </button>\n",
              "      \n",
              "  <style>\n",
              "    .colab-df-container {\n",
              "      display:flex;\n",
              "      flex-wrap:wrap;\n",
              "      gap: 12px;\n",
              "    }\n",
              "\n",
              "    .colab-df-convert {\n",
              "      background-color: #E8F0FE;\n",
              "      border: none;\n",
              "      border-radius: 50%;\n",
              "      cursor: pointer;\n",
              "      display: none;\n",
              "      fill: #1967D2;\n",
              "      height: 32px;\n",
              "      padding: 0 0 0 0;\n",
              "      width: 32px;\n",
              "    }\n",
              "\n",
              "    .colab-df-convert:hover {\n",
              "      background-color: #E2EBFA;\n",
              "      box-shadow: 0px 1px 2px rgba(60, 64, 67, 0.3), 0px 1px 3px 1px rgba(60, 64, 67, 0.15);\n",
              "      fill: #174EA6;\n",
              "    }\n",
              "\n",
              "    [theme=dark] .colab-df-convert {\n",
              "      background-color: #3B4455;\n",
              "      fill: #D2E3FC;\n",
              "    }\n",
              "\n",
              "    [theme=dark] .colab-df-convert:hover {\n",
              "      background-color: #434B5C;\n",
              "      box-shadow: 0px 1px 3px 1px rgba(0, 0, 0, 0.15);\n",
              "      filter: drop-shadow(0px 1px 2px rgba(0, 0, 0, 0.3));\n",
              "      fill: #FFFFFF;\n",
              "    }\n",
              "  </style>\n",
              "\n",
              "      <script>\n",
              "        const buttonEl =\n",
              "          document.querySelector('#df-363a7996-d757-4592-b2e6-46a3cc5ed630 button.colab-df-convert');\n",
              "        buttonEl.style.display =\n",
              "          google.colab.kernel.accessAllowed ? 'block' : 'none';\n",
              "\n",
              "        async function convertToInteractive(key) {\n",
              "          const element = document.querySelector('#df-363a7996-d757-4592-b2e6-46a3cc5ed630');\n",
              "          const dataTable =\n",
              "            await google.colab.kernel.invokeFunction('convertToInteractive',\n",
              "                                                     [key], {});\n",
              "          if (!dataTable) return;\n",
              "\n",
              "          const docLinkHtml = 'Like what you see? Visit the ' +\n",
              "            '<a target=\"_blank\" href=https://colab.research.google.com/notebooks/data_table.ipynb>data table notebook</a>'\n",
              "            + ' to learn more about interactive tables.';\n",
              "          element.innerHTML = '';\n",
              "          dataTable['output_type'] = 'display_data';\n",
              "          await google.colab.output.renderOutput(dataTable, element);\n",
              "          const docLink = document.createElement('div');\n",
              "          docLink.innerHTML = docLinkHtml;\n",
              "          element.appendChild(docLink);\n",
              "        }\n",
              "      </script>\n",
              "    </div>\n",
              "  </div>\n",
              "  "
            ]
          },
          "metadata": {},
          "execution_count": 10
        }
      ]
    },
    {
      "cell_type": "markdown",
      "source": [
        "Data Pre-processing\n",
        "\n",
        "Correlation between attributes"
      ],
      "metadata": {
        "id": "Mwkg50YaHNnd"
      }
    },
    {
      "cell_type": "code",
      "source": [
        "ms.heatmap(data)"
      ],
      "metadata": {
        "colab": {
          "base_uri": "https://localhost:8080/",
          "height": 810
        },
        "id": "AUqT5arR-8mq",
        "outputId": "0b57071b-a2f0-465d-e525-22ef22e59825"
      },
      "execution_count": null,
      "outputs": [
        {
          "output_type": "execute_result",
          "data": {
            "text/plain": [
              "<matplotlib.axes._subplots.AxesSubplot at 0x7f326f111f50>"
            ]
          },
          "metadata": {},
          "execution_count": 16
        },
        {
          "output_type": "display_data",
          "data": {
            "text/plain": [
              "<Figure size 1440x864 with 2 Axes>"
            ],
            "image/png": "[encoded data removed]"
          },
          "metadata": {
            "needs_background": "light"
          }
        }
      ]
    },
    {
      "cell_type": "markdown",
      "source": [
        "Visualization"
      ],
      "metadata": {
        "id": "DcNEVLk6HDRO"
      }
    },
    {
      "cell_type": "code",
      "source": [
        "ms.matrix(data)"
      ],
      "metadata": {
        "colab": {
          "base_uri": "https://localhost:8080/",
          "height": 605
        },
        "id": "3fQD7f5B--NE",
        "outputId": "6a39d3c3-efcc-4af1-93a7-414ce3032e8c"
      },
      "execution_count": null,
      "outputs": [
        {
          "output_type": "execute_result",
          "data": {
            "text/plain": [
              "<matplotlib.axes._subplots.AxesSubplot at 0x7f326c176d10>"
            ]
          },
          "metadata": {},
          "execution_count": 17
        },
        {
          "output_type": "display_data",
          "data": {
            "text/plain": [
              "<Figure size 1800x720 with 2 Axes>"
            ],
            "image/png": "[encoded data removed]"
          },
          "metadata": {
            "needs_background": "light"
          }
        }
      ]
    },
    {
      "cell_type": "code",
      "source": [
        "sns.distplot(data['imdb_score'])"
      ],
      "metadata": {
        "colab": {
          "base_uri": "https://localhost:8080/",
          "height": 352
        },
        "id": "H46Qqcq5_wD3",
        "outputId": "59dc8ea1-de97-4288-9413-e632ffec115e"
      },
      "execution_count": null,
      "outputs": [
        {
          "output_type": "stream",
          "name": "stderr",
          "text": [
            "/usr/local/lib/python3.7/dist-packages/seaborn/distributions.py:2619: FutureWarning: `distplot` is a deprecated function and will be removed in a future version. Please adapt your code to use either `displot` (a figure-level function with similar flexibility) or `histplot` (an axes-level function for histograms).\n",
            "  warnings.warn(msg, FutureWarning)\n"
          ]
        },
        {
          "output_type": "execute_result",
          "data": {
            "text/plain": [
              "<matplotlib.axes._subplots.AxesSubplot at 0x7f326a84abd0>"
            ]
          },
          "metadata": {},
          "execution_count": 18
        },
        {
          "output_type": "display_data",
          "data": {
            "text/plain": [
              "<Figure size 432x288 with 1 Axes>"
            ],
            "image/png": "[encoded data removed]"
          },
          "metadata": {
            "needs_background": "light"
          }
        }
      ]
    },
    {
      "cell_type": "markdown",
      "source": [
        "Removing null values"
      ],
      "metadata": {
        "id": "x9X5Jr6yG-7L"
      }
    },
    {
      "cell_type": "code",
      "source": [
        "ndata=data.dropna(inplace=True)\n",
        "data.isnull().sum()"
      ],
      "metadata": {
        "colab": {
          "base_uri": "https://localhost:8080/"
        },
        "id": "9LhnIzpK_zFv",
        "outputId": "3721e9a6-6816-4a24-ad55-c4939665ef96"
      },
      "execution_count": null,
      "outputs": [
        {
          "output_type": "execute_result",
          "data": {
            "text/plain": [
              "color                        0\n",
              "director_name                0\n",
              "num_critic_for_reviews       0\n",
              "duration                     0\n",
              "director_facebook_likes      0\n",
              "actor_3_facebook_likes       0\n",
              "actor_2_name                 0\n",
              "actor_1_facebook_likes       0\n",
              "gross                        0\n",
              "genres                       0\n",
              "actor_1_name                 0\n",
              "movie_title                  0\n",
              "num_voted_users              0\n",
              "cast_total_facebook_likes    0\n",
              "actor_3_name                 0\n",
              "facenumber_in_poster         0\n",
              "plot_keywords                0\n",
              "movie_imdb_link              0\n",
              "num_user_for_reviews         0\n",
              "language                     0\n",
              "country                      0\n",
              "content_rating               0\n",
              "budget                       0\n",
              "title_year                   0\n",
              "actor_2_facebook_likes       0\n",
              "imdb_score                   0\n",
              "aspect_ratio                 0\n",
              "movie_facebook_likes         0\n",
              "dtype: int64"
            ]
          },
          "metadata": {},
          "execution_count": 19
        }
      ]
    },
    {
      "cell_type": "code",
      "source": [
        "ms.matrix(data)"
      ],
      "metadata": {
        "colab": {
          "base_uri": "https://localhost:8080/",
          "height": 605
        },
        "id": "LHCTLK8y_14C",
        "outputId": "bf4df931-bc66-4c2d-9c2d-af083448320e"
      },
      "execution_count": null,
      "outputs": [
        {
          "output_type": "execute_result",
          "data": {
            "text/plain": [
              "<matplotlib.axes._subplots.AxesSubplot at 0x7f32686e9410>"
            ]
          },
          "metadata": {},
          "execution_count": 20
        },
        {
          "output_type": "display_data",
          "data": {
            "text/plain": [
              "<Figure size 1800x720 with 2 Axes>"
            ],
            "image/png": "[encoded data removed]"
          },
          "metadata": {
            "needs_background": "light"
          }
        }
      ]
    },
    {
      "cell_type": "code",
      "source": [
        "data.info()"
      ],
      "metadata": {
        "colab": {
          "base_uri": "https://localhost:8080/"
        },
        "id": "HheyaHjU_7tm",
        "outputId": "cc856532-7c6f-4ad5-903e-effb8d7678ba"
      },
      "execution_count": null,
      "outputs": [
        {
          "output_type": "stream",
          "name": "stdout",
          "text": [
            "<class 'pandas.core.frame.DataFrame'>\n",
            "Int64Index: 3756 entries, 0 to 5042\n",
            "Data columns (total 28 columns):\n",
            " #   Column                     Non-Null Count  Dtype  \n",
            "---  ------                     --------------  -----  \n",
            " 0   color                      3756 non-null   object \n",
            " 1   director_name              3756 non-null   object \n",
            " 2   num_critic_for_reviews     3756 non-null   float64\n",
            " 3   duration                   3756 non-null   float64\n",
            " 4   director_facebook_likes    3756 non-null   float64\n",
            " 5   actor_3_facebook_likes     3756 non-null   float64\n",
            " 6   actor_2_name               3756 non-null   object \n",
            " 7   actor_1_facebook_likes     3756 non-null   float64\n",
            " 8   gross                      3756 non-null   float64\n",
            " 9   genres                     3756 non-null   object \n",
            " 10  actor_1_name               3756 non-null   object \n",
            " 11  movie_title                3756 non-null   object \n",
            " 12  num_voted_users            3756 non-null   int64  \n",
            " 13  cast_total_facebook_likes  3756 non-null   int64  \n",
            " 14  actor_3_name               3756 non-null   object \n",
            " 15  facenumber_in_poster       3756 non-null   float64\n",
            " 16  plot_keywords              3756 non-null   object \n",
            " 17  movie_imdb_link            3756 non-null   object \n",
            " 18  num_user_for_reviews       3756 non-null   float64\n",
            " 19  language                   3756 non-null   object \n",
            " 20  country                    3756 non-null   object \n",
            " 21  content_rating             3756 non-null   object \n",
            " 22  budget                     3756 non-null   float64\n",
            " 23  title_year                 3756 non-null   float64\n",
            " 24  actor_2_facebook_likes     3756 non-null   float64\n",
            " 25  imdb_score                 3756 non-null   float64\n",
            " 26  aspect_ratio               3756 non-null   float64\n",
            " 27  movie_facebook_likes       3756 non-null   int64  \n",
            "dtypes: float64(13), int64(3), object(12)\n",
            "memory usage: 980.0+ KB\n"
          ]
        }
      ]
    },
    {
      "cell_type": "code",
      "source": [
        "data.info()"
      ],
      "metadata": {
        "colab": {
          "base_uri": "https://localhost:8080/"
        },
        "id": "CxIT5AIiCHvS",
        "outputId": "33104648-10f3-4661-e41e-7240eaec8080"
      },
      "execution_count": null,
      "outputs": [
        {
          "output_type": "stream",
          "name": "stdout",
          "text": [
            "<class 'pandas.core.frame.DataFrame'>\n",
            "Int64Index: 3756 entries, 0 to 5042\n",
            "Data columns (total 28 columns):\n",
            " #   Column                     Non-Null Count  Dtype  \n",
            "---  ------                     --------------  -----  \n",
            " 0   color                      3756 non-null   object \n",
            " 1   director_name              3756 non-null   object \n",
            " 2   num_critic_for_reviews     3756 non-null   float64\n",
            " 3   duration                   3756 non-null   float64\n",
            " 4   director_facebook_likes    3756 non-null   float64\n",
            " 5   actor_3_facebook_likes     3756 non-null   float64\n",
            " 6   actor_2_name               3756 non-null   object \n",
            " 7   actor_1_facebook_likes     3756 non-null   float64\n",
            " 8   gross                      3756 non-null   float64\n",
            " 9   genres                     3756 non-null   object \n",
            " 10  actor_1_name               3756 non-null   object \n",
            " 11  movie_title                3756 non-null   object \n",
            " 12  num_voted_users            3756 non-null   int64  \n",
            " 13  cast_total_facebook_likes  3756 non-null   int64  \n",
            " 14  actor_3_name               3756 non-null   object \n",
            " 15  facenumber_in_poster       3756 non-null   float64\n",
            " 16  plot_keywords              3756 non-null   object \n",
            " 17  movie_imdb_link            3756 non-null   object \n",
            " 18  num_user_for_reviews       3756 non-null   float64\n",
            " 19  language                   3756 non-null   object \n",
            " 20  country                    3756 non-null   object \n",
            " 21  content_rating             3756 non-null   object \n",
            " 22  budget                     3756 non-null   float64\n",
            " 23  title_year                 3756 non-null   float64\n",
            " 24  actor_2_facebook_likes     3756 non-null   float64\n",
            " 25  imdb_score                 3756 non-null   float64\n",
            " 26  aspect_ratio               3756 non-null   float64\n",
            " 27  movie_facebook_likes       3756 non-null   int64  \n",
            "dtypes: float64(13), int64(3), object(12)\n",
            "memory usage: 980.0+ KB\n"
          ]
        }
      ]
    },
    {
      "cell_type": "code",
      "source": [
        "data.shape"
      ],
      "metadata": {
        "colab": {
          "base_uri": "https://localhost:8080/"
        },
        "id": "PpHPRJ_DEAkE",
        "outputId": "5b2f0646-8009-4402-8e2e-69fcbc0cf0d4"
      },
      "execution_count": null,
      "outputs": [
        {
          "output_type": "execute_result",
          "data": {
            "text/plain": [
              "(3756, 28)"
            ]
          },
          "metadata": {},
          "execution_count": 28
        }
      ]
    },
    {
      "cell_type": "code",
      "source": [
        "x=data.iloc[:,25]\n",
        "print(x)\n",
        "print(x.shape)"
      ],
      "metadata": {
        "colab": {
          "base_uri": "https://localhost:8080/"
        },
        "id": "aExLMATiECsT",
        "outputId": "85b4a123-f7ea-4984-8c82-544aa677879e"
      },
      "execution_count": null,
      "outputs": [
        {
          "output_type": "stream",
          "name": "stdout",
          "text": [
            "0       7.9\n",
            "1       7.1\n",
            "2       6.8\n",
            "3       8.5\n",
            "5       6.6\n",
            "       ... \n",
            "5026    6.9\n",
            "5027    7.5\n",
            "5033    7.0\n",
            "5035    6.9\n",
            "5042    6.6\n",
            "Name: imdb_score, Length: 3756, dtype: float64\n",
            "(3756,)\n"
          ]
        }
      ]
    },
    {
      "cell_type": "markdown",
      "source": [
        "Classifying target values"
      ],
      "metadata": {
        "id": "2d81fXLlG59G"
      }
    },
    {
      "cell_type": "code",
      "source": [
        "l=[]\n",
        "print(type(x))\n",
        "print(x[0])"
      ],
      "metadata": {
        "colab": {
          "base_uri": "https://localhost:8080/"
        },
        "id": "voylsZGUEEU3",
        "outputId": "7ea15633-e6f2-40c4-8f21-308a1e7a80b4"
      },
      "execution_count": null,
      "outputs": [
        {
          "output_type": "stream",
          "name": "stdout",
          "text": [
            "<class 'pandas.core.series.Series'>\n",
            "7.9\n"
          ]
        }
      ]
    },
    {
      "cell_type": "code",
      "source": [
        "l=[]\n",
        "for i in x:\n",
        "    if(0<=i and i<=4):\n",
        "        l.append('flop')\n",
        "    elif(4<i and i<=7):\n",
        "        l.append('avg')\n",
        "    elif (7<i and i<=10):\n",
        "        l.append('hit')\n",
        "print(len(l))\n",
        "l = pd.Series(l)\n",
        "print(l)"
      ],
      "metadata": {
        "colab": {
          "base_uri": "https://localhost:8080/"
        },
        "id": "ETnpuJQ2EGmv",
        "outputId": "438b1d0d-b46b-441e-baec-6de452d6fa60"
      },
      "execution_count": null,
      "outputs": [
        {
          "output_type": "stream",
          "name": "stdout",
          "text": [
            "3756\n",
            "0       hit\n",
            "1       hit\n",
            "2       avg\n",
            "3       hit\n",
            "4       avg\n",
            "       ... \n",
            "3751    avg\n",
            "3752    hit\n",
            "3753    avg\n",
            "3754    avg\n",
            "3755    avg\n",
            "Length: 3756, dtype: object\n"
          ]
        }
      ]
    },
    {
      "cell_type": "code",
      "source": [
        "a=float(input(\"enter the imdb rating: \"))\n",
        "if(0<=a and a<=4):\n",
        "    print('flop')\n",
        "elif(4<a and a<=7):\n",
        "    print('avg')\n",
        "elif (7<a and a<=10):\n",
        "    print('hit')"
      ],
      "metadata": {
        "colab": {
          "base_uri": "https://localhost:8080/"
        },
        "id": "p5n0jAxhEIlS",
        "outputId": "f6cc0e42-98d0-4eb3-8e25-7f444f4dd152"
      },
      "execution_count": null,
      "outputs": [
        {
          "output_type": "stream",
          "name": "stdout",
          "text": [
            "enter the imdb rating: 5.7\n",
            "avg\n"
          ]
        }
      ]
    },
    {
      "cell_type": "markdown",
      "source": [
        "Creating dataframe for selected attributes"
      ],
      "metadata": {
        "id": "FWPydIs-Gnd2"
      }
    },
    {
      "cell_type": "code",
      "source": [
        "fdata=data[[\"num_critic_for_reviews\",\"director_facebook_likes\",\"actor_3_facebook_likes\",\"actor_1_facebook_likes\",\"num_voted_users\"]]"
      ],
      "metadata": {
        "id": "i3ot385LEK97"
      },
      "execution_count": null,
      "outputs": []
    },
    {
      "cell_type": "code",
      "source": [
        "print(fdata)\n"
      ],
      "metadata": {
        "colab": {
          "base_uri": "https://localhost:8080/"
        },
        "id": "SH_KXtO4EXwq",
        "outputId": "1f63c89c-a704-41be-f040-4a1fe6f4815e"
      },
      "execution_count": null,
      "outputs": [
        {
          "output_type": "stream",
          "name": "stdout",
          "text": [
            "      num_critic_for_reviews  director_facebook_likes  actor_3_facebook_likes  \\\n",
            "0                      723.0                      0.0                   855.0   \n",
            "1                      302.0                    563.0                  1000.0   \n",
            "2                      602.0                      0.0                   161.0   \n",
            "3                      813.0                  22000.0                 23000.0   \n",
            "5                      462.0                    475.0                   530.0   \n",
            "...                      ...                      ...                     ...   \n",
            "5026                    81.0                    107.0                    45.0   \n",
            "5027                    64.0                    397.0                     0.0   \n",
            "5033                   143.0                    291.0                     8.0   \n",
            "5035                    56.0                      0.0                     6.0   \n",
            "5042                    43.0                     16.0                    16.0   \n",
            "\n",
            "      actor_1_facebook_likes  num_voted_users  \n",
            "0                     1000.0           886204  \n",
            "1                    40000.0           471220  \n",
            "2                    11000.0           275868  \n",
            "3                    27000.0          1144337  \n",
            "5                      640.0           212204  \n",
            "...                      ...              ...  \n",
            "5026                   576.0             3924  \n",
            "5027                     5.0             4555  \n",
            "5033                   291.0            72639  \n",
            "5035                   121.0            52055  \n",
            "5042                    86.0             4285  \n",
            "\n",
            "[3756 rows x 5 columns]\n"
          ]
        }
      ]
    },
    {
      "cell_type": "code",
      "source": [
        "print(data.shape)"
      ],
      "metadata": {
        "colab": {
          "base_uri": "https://localhost:8080/"
        },
        "id": "qF7qlLajEZ1o",
        "outputId": "3b98b74e-2c92-404b-c075-dcbdb2d95370"
      },
      "execution_count": null,
      "outputs": [
        {
          "output_type": "stream",
          "name": "stdout",
          "text": [
            "(3756, 28)\n"
          ]
        }
      ]
    },
    {
      "cell_type": "markdown",
      "source": [
        "Model selection\n",
        "\n",
        "Training and testing"
      ],
      "metadata": {
        "id": "MYZonh96Ggmo"
      }
    },
    {
      "cell_type": "code",
      "source": [
        "from sklearn.model_selection import train_test_split\n",
        "X_train,X_test,Y_train,Y_test=train_test_split(fdata,l,test_size=0.30,random_state=101)"
      ],
      "metadata": {
        "id": "9K_MpVcGEfSD"
      },
      "execution_count": null,
      "outputs": []
    },
    {
      "cell_type": "markdown",
      "source": [
        "Training the model\n",
        "\n",
        "KNN Classifier"
      ],
      "metadata": {
        "id": "QkEZUqiPGT1E"
      }
    },
    {
      "cell_type": "code",
      "source": [
        "from sklearn.neighbors import KNeighborsClassifier \n",
        "knn = KNeighborsClassifier(n_neighbors = 7).fit(X_train, Y_train) "
      ],
      "metadata": {
        "id": "ec7X-_iSEhWS"
      },
      "execution_count": null,
      "outputs": []
    },
    {
      "cell_type": "markdown",
      "source": [
        "\n",
        "Confusion matrix"
      ],
      "metadata": {
        "id": "DF7zTGuCGMYJ"
      }
    },
    {
      "cell_type": "code",
      "source": [
        "from sklearn.metrics import confusion_matrix, classification_report\n",
        "knn_predictions = knn.predict(X_test)  \n",
        "cm = confusion_matrix(Y_test, knn_predictions) \n",
        "print(cm)\n"
      ],
      "metadata": {
        "colab": {
          "base_uri": "https://localhost:8080/"
        },
        "id": "NcUXTOUOEjpC",
        "outputId": "dec208a7-357e-45d1-89f3-73b5cd6695d2"
      },
      "execution_count": null,
      "outputs": [
        {
          "output_type": "stream",
          "name": "stdout",
          "text": [
            "[[659   0 112]\n",
            " [ 27   0   0]\n",
            " [191   0 138]]\n"
          ]
        }
      ]
    },
    {
      "cell_type": "markdown",
      "source": [
        "Accuracy"
      ],
      "metadata": {
        "id": "MYyvukv9GIyx"
      }
    },
    {
      "cell_type": "code",
      "source": [
        " accuracy = knn.score(X_test, Y_test) \n",
        "print (accuracy)"
      ],
      "metadata": {
        "colab": {
          "base_uri": "https://localhost:8080/"
        },
        "id": "m0DU_wJZEnye",
        "outputId": "0b17dd13-0c6b-416b-a619-219aa5be7361"
      },
      "execution_count": null,
      "outputs": [
        {
          "output_type": "stream",
          "name": "stdout",
          "text": [
            "0.707187222715173\n"
          ]
        }
      ]
    },
    {
      "cell_type": "code",
      "source": [
        "from sklearn.metrics import accuracy_score \n",
        "print ('Accuracy Score :',accuracy_score(Y_test, knn_predictions))"
      ],
      "metadata": {
        "colab": {
          "base_uri": "https://localhost:8080/"
        },
        "id": "9FKJXQjWErUQ",
        "outputId": "a090d53f-116a-4f6f-e93a-78266ba75d2f"
      },
      "execution_count": null,
      "outputs": [
        {
          "output_type": "stream",
          "name": "stdout",
          "text": [
            "Accuracy Score : 0.707187222715173\n"
          ]
        }
      ]
    },
    {
      "cell_type": "markdown",
      "source": [
        "Naive Bayes Classifier"
      ],
      "metadata": {
        "id": "bN1ahRbPGC9e"
      }
    },
    {
      "cell_type": "code",
      "source": [
        "from sklearn.naive_bayes import GaussianNB \n",
        "gnb = GaussianNB().fit(X_train, Y_train) \n",
        "gnb_predictions = gnb.predict(X_test) "
      ],
      "metadata": {
        "id": "Jd1z4IDcE4ZN"
      },
      "execution_count": null,
      "outputs": []
    },
    {
      "cell_type": "markdown",
      "source": [
        "Confusion matrix"
      ],
      "metadata": {
        "id": "jxTTqy31F_20"
      }
    },
    {
      "cell_type": "code",
      "source": [
        "cm = confusion_matrix(Y_test, gnb_predictions)\n",
        "print(cm)"
      ],
      "metadata": {
        "colab": {
          "base_uri": "https://localhost:8080/"
        },
        "id": "ln4Apob9E6Oy",
        "outputId": "bf3155da-bc3b-4e8f-939a-1a10d4de0d6c"
      },
      "execution_count": null,
      "outputs": [
        {
          "output_type": "stream",
          "name": "stdout",
          "text": [
            "[[300 393  78]\n",
            " [  5  22   0]\n",
            " [131  87 111]]\n"
          ]
        }
      ]
    },
    {
      "cell_type": "markdown",
      "source": [
        "\n",
        "Accuracy"
      ],
      "metadata": {
        "id": "pdHTGkINF7LK"
      }
    },
    {
      "cell_type": "code",
      "source": [
        "accuracy = gnb.score(X_test, Y_test) \n",
        "print ('Accuracy score: ',accuracy)"
      ],
      "metadata": {
        "colab": {
          "base_uri": "https://localhost:8080/"
        },
        "id": "zRcj23ReE81W",
        "outputId": "918817a5-d278-46c4-b55b-98c1f3d33afe"
      },
      "execution_count": null,
      "outputs": [
        {
          "output_type": "stream",
          "name": "stdout",
          "text": [
            "Accuracy score:  0.3842058562555457\n"
          ]
        }
      ]
    },
    {
      "cell_type": "markdown",
      "source": [
        "Logistic Regression\n",
        "\n",
        "\n",
        "Target values:"
      ],
      "metadata": {
        "id": "YYYTAraoF2wp"
      }
    },
    {
      "cell_type": "code",
      "source": [
        "print(x)"
      ],
      "metadata": {
        "colab": {
          "base_uri": "https://localhost:8080/"
        },
        "id": "Sdy-fc8NE_FM",
        "outputId": "d8367812-a8ef-4ea6-dd58-ed52a17ba8dd"
      },
      "execution_count": null,
      "outputs": [
        {
          "output_type": "stream",
          "name": "stdout",
          "text": [
            "0       7.9\n",
            "1       7.1\n",
            "2       6.8\n",
            "3       8.5\n",
            "5       6.6\n",
            "       ... \n",
            "5026    6.9\n",
            "5027    7.5\n",
            "5033    7.0\n",
            "5035    6.9\n",
            "5042    6.6\n",
            "Name: imdb_score, Length: 3756, dtype: float64\n"
          ]
        }
      ]
    },
    {
      "cell_type": "markdown",
      "source": [
        "Attributes taken as inputs:"
      ],
      "metadata": {
        "id": "F4vwABOtFyte"
      }
    },
    {
      "cell_type": "code",
      "source": [
        "print(fdata)"
      ],
      "metadata": {
        "colab": {
          "base_uri": "https://localhost:8080/"
        },
        "id": "2M8Pk-liFAqX",
        "outputId": "40c5fc3d-cb67-4481-d010-24ebce9aa88b"
      },
      "execution_count": null,
      "outputs": [
        {
          "output_type": "stream",
          "name": "stdout",
          "text": [
            "      num_critic_for_reviews  director_facebook_likes  actor_3_facebook_likes  \\\n",
            "0                      723.0                      0.0                   855.0   \n",
            "1                      302.0                    563.0                  1000.0   \n",
            "2                      602.0                      0.0                   161.0   \n",
            "3                      813.0                  22000.0                 23000.0   \n",
            "5                      462.0                    475.0                   530.0   \n",
            "...                      ...                      ...                     ...   \n",
            "5026                    81.0                    107.0                    45.0   \n",
            "5027                    64.0                    397.0                     0.0   \n",
            "5033                   143.0                    291.0                     8.0   \n",
            "5035                    56.0                      0.0                     6.0   \n",
            "5042                    43.0                     16.0                    16.0   \n",
            "\n",
            "      actor_1_facebook_likes  num_voted_users  \n",
            "0                     1000.0           886204  \n",
            "1                    40000.0           471220  \n",
            "2                    11000.0           275868  \n",
            "3                    27000.0          1144337  \n",
            "5                      640.0           212204  \n",
            "...                      ...              ...  \n",
            "5026                   576.0             3924  \n",
            "5027                     5.0             4555  \n",
            "5033                   291.0            72639  \n",
            "5035                   121.0            52055  \n",
            "5042                    86.0             4285  \n",
            "\n",
            "[3756 rows x 5 columns]\n"
          ]
        }
      ]
    },
    {
      "cell_type": "markdown",
      "source": [
        "Training and Testing:"
      ],
      "metadata": {
        "id": "wn9SWb8lFn5w"
      }
    },
    {
      "cell_type": "code",
      "source": [
        "from sklearn.model_selection import train_test_split\n",
        "X_train,X_test,Y_train,Y_test=train_test_split(fdata,l,test_size=0.30,random_state=101)"
      ],
      "metadata": {
        "id": "KyeteoEMFDHH"
      },
      "execution_count": null,
      "outputs": []
    },
    {
      "cell_type": "code",
      "source": [
        "from sklearn.linear_model import LogisticRegression"
      ],
      "metadata": {
        "id": "Cx2tpUAlFG7E"
      },
      "execution_count": null,
      "outputs": []
    },
    {
      "cell_type": "code",
      "source": [
        "logmodel = LogisticRegression()"
      ],
      "metadata": {
        "id": "aS3yJp5jFMAn"
      },
      "execution_count": null,
      "outputs": []
    },
    {
      "cell_type": "code",
      "source": [
        "logmodel.fit(X_train,Y_train)"
      ],
      "metadata": {
        "colab": {
          "base_uri": "https://localhost:8080/"
        },
        "id": "fxxCxhisFV5r",
        "outputId": "7b5020e5-f4ac-49f1-c45f-c5c7a3070230"
      },
      "execution_count": null,
      "outputs": [
        {
          "output_type": "stream",
          "name": "stderr",
          "text": [
            "/usr/local/lib/python3.7/dist-packages/sklearn/linear_model/_logistic.py:818: ConvergenceWarning: lbfgs failed to converge (status=1):\n",
            "STOP: TOTAL NO. of ITERATIONS REACHED LIMIT.\n",
            "\n",
            "Increase the number of iterations (max_iter) or scale the data as shown in:\n",
            "    https://scikit-learn.org/stable/modules/preprocessing.html\n",
            "Please also refer to the documentation for alternative solver options:\n",
            "    https://scikit-learn.org/stable/modules/linear_model.html#logistic-regression\n",
            "  extra_warning_msg=_LOGISTIC_SOLVER_CONVERGENCE_MSG,\n"
          ]
        },
        {
          "output_type": "execute_result",
          "data": {
            "text/plain": [
              "LogisticRegression()"
            ]
          },
          "metadata": {},
          "execution_count": 51
        }
      ]
    },
    {
      "cell_type": "code",
      "source": [
        "predicted =  logmodel.predict(X_test)\n",
        "predicted"
      ],
      "metadata": {
        "colab": {
          "base_uri": "https://localhost:8080/"
        },
        "id": "c0K6VMeXFXzq",
        "outputId": "16389f20-c9bd-4fea-de05-e10db8ceb3ff"
      },
      "execution_count": null,
      "outputs": [
        {
          "output_type": "execute_result",
          "data": {
            "text/plain": [
              "array(['avg', 'hit', 'avg', ..., 'avg', 'hit', 'hit'], dtype=object)"
            ]
          },
          "metadata": {},
          "execution_count": 52
        }
      ]
    },
    {
      "cell_type": "code",
      "source": [
        "from sklearn.metrics import confusion_matrix, classification_report"
      ],
      "metadata": {
        "id": "By5eODSZFarL"
      },
      "execution_count": null,
      "outputs": []
    },
    {
      "cell_type": "code",
      "source": [
        "print(confusion_matrix(Y_test, predicted))"
      ],
      "metadata": {
        "colab": {
          "base_uri": "https://localhost:8080/"
        },
        "id": "ynW4s3MnFebo",
        "outputId": "51b68fd7-5ec2-423c-851d-fcf6fcd1b6fb"
      },
      "execution_count": null,
      "outputs": [
        {
          "output_type": "stream",
          "name": "stdout",
          "text": [
            "[[679   0  92]\n",
            " [ 26   0   1]\n",
            " [199   0 130]]\n"
          ]
        }
      ]
    },
    {
      "cell_type": "code",
      "source": [
        "from sklearn.metrics import classification_report\n",
        "\n",
        "print(classification_report(Y_test,predicted))"
      ],
      "metadata": {
        "colab": {
          "base_uri": "https://localhost:8080/"
        },
        "id": "17_JC1gMFgaA",
        "outputId": "89cf9fda-f4a9-461a-c194-f301e718af33"
      },
      "execution_count": null,
      "outputs": [
        {
          "output_type": "stream",
          "name": "stdout",
          "text": [
            "              precision    recall  f1-score   support\n",
            "\n",
            "         avg       0.75      0.88      0.81       771\n",
            "        flop       0.00      0.00      0.00        27\n",
            "         hit       0.58      0.40      0.47       329\n",
            "\n",
            "    accuracy                           0.72      1127\n",
            "   macro avg       0.44      0.43      0.43      1127\n",
            "weighted avg       0.68      0.72      0.69      1127\n",
            "\n"
          ]
        },
        {
          "output_type": "stream",
          "name": "stderr",
          "text": [
            "/usr/local/lib/python3.7/dist-packages/sklearn/metrics/_classification.py:1318: UndefinedMetricWarning: Precision and F-score are ill-defined and being set to 0.0 in labels with no predicted samples. Use `zero_division` parameter to control this behavior.\n",
            "  _warn_prf(average, modifier, msg_start, len(result))\n",
            "/usr/local/lib/python3.7/dist-packages/sklearn/metrics/_classification.py:1318: UndefinedMetricWarning: Precision and F-score are ill-defined and being set to 0.0 in labels with no predicted samples. Use `zero_division` parameter to control this behavior.\n",
            "  _warn_prf(average, modifier, msg_start, len(result))\n",
            "/usr/local/lib/python3.7/dist-packages/sklearn/metrics/_classification.py:1318: UndefinedMetricWarning: Precision and F-score are ill-defined and being set to 0.0 in labels with no predicted samples. Use `zero_division` parameter to control this behavior.\n",
            "  _warn_prf(average, modifier, msg_start, len(result))\n"
          ]
        }
      ]
    },
    {
      "cell_type": "code",
      "source": [
        ""
      ],
      "metadata": {
        "id": "12YZWEiPFibJ"
      },
      "execution_count": null,
      "outputs": []
    }
  ]
}